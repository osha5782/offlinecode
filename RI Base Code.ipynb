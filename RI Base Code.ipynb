{
 "cells": [
  {
   "cell_type": "code",
   "execution_count": 1,
   "metadata": {},
   "outputs": [],
   "source": [
    "## SECTION 1: IMPORT AND IMPORT FROM PACKAGES"
   ]
  },
  {
   "cell_type": "code",
   "execution_count": 1,
   "metadata": {
    "scrolled": true
   },
   "outputs": [],
   "source": [
    "# Standard\n",
    "import numpy as np\n",
    "from numpy.random import seed\n",
    "seed(440232650)\n",
    "import pandas as pd\n",
    "import matplotlib.pyplot as plt \n",
    "import seaborn as sns \n",
    "import warnings\n",
    "warnings.filterwarnings('ignore')\n",
    "\n",
    "# I haven't installed tensorflow so can't import this?\n",
    "from tensorflow import set_random_seed\n",
    "set_random_seed(440232650)\n",
    "\n",
    "import os\n",
    "os.environ['CUDA_VISIBLE_DEVICES'] = '1'\n",
    "import random, cv2, h5py, requests\n",
    "import np_utils\n",
    "from glob import glob\n",
    "from PIL import Image\n",
    "from io import BytesIO\n",
    "from itertools import chain"
   ]
  },
  {
   "cell_type": "code",
   "execution_count": 2,
   "metadata": {},
   "outputs": [
    {
     "name": "stdout",
     "output_type": "stream",
     "text": [
      "Segmentation Models: using `keras` framework.\n"
     ]
    },
    {
     "name": "stderr",
     "output_type": "stream",
     "text": [
      "Using TensorFlow backend.\n"
     ]
    }
   ],
   "source": [
    "# Segmentation Models\n",
    "import segmentation_models as sm\n",
    "from segmentation_models import Unet, get_preprocessing\n",
    "from segmentation_models.losses import jaccard_loss, dice_loss, binary_focal_loss, categorical_focal_loss, binary_crossentropy, categorical_crossentropy, bce_dice_loss, bce_jaccard_loss, cce_dice_loss, cce_jaccard_loss, binary_focal_dice_loss, binary_focal_jaccard_loss, categorical_focal_dice_loss, categorical_focal_jaccard_loss\n",
    "from segmentation_models.metrics import iou_score"
   ]
  },
  {
   "cell_type": "code",
   "execution_count": 3,
   "metadata": {},
   "outputs": [],
   "source": [
    "# SKLearn\n",
    "from sklearn.preprocessing import OneHotEncoder\n",
    "from sklearn.model_selection import train_test_split\n",
    "from sklearn.metrics import roc_curve, roc_auc_score, auc, jaccard_score"
   ]
  },
  {
   "cell_type": "code",
   "execution_count": 4,
   "metadata": {},
   "outputs": [],
   "source": [
    "# Keras\n",
    "from keras.preprocessing.image import ImageDataGenerator, load_img, img_to_array\n",
    "from keras.layers import Input, Dropout, Flatten, Dense, AveragePooling2D, Conv2D, GlobalAveragePooling2D, BatchNormalization, Flatten, Activation\n",
    "from keras.optimizers import Adam, SGD, Adagrad, Adadelta\n",
    "from keras.models import Model, load_model\n",
    "from keras.callbacks import ModelCheckpoint, LearningRateScheduler, EarlyStopping, ReduceLROnPlateau, CSVLogger\n",
    "from keras.utils import to_categorical"
   ]
  },
  {
   "cell_type": "code",
   "execution_count": 5,
   "metadata": {},
   "outputs": [],
   "source": [
    "# Albumentations\n",
    "from albumentations import (Compose,\n",
    "    HorizontalFlip,\n",
    "    ElasticTransform,\n",
    "    GridDistortion, \n",
    "    OpticalDistortion,\n",
    "    OneOf,\n",
    "    CLAHE,\n",
    "    RandomBrightnessContrast,    \n",
    "    RandomGamma    \n",
    ")"
   ]
  },
  {
   "cell_type": "code",
   "execution_count": 6,
   "metadata": {},
   "outputs": [],
   "source": [
    "## SECTION 2: DEFINE VARIABLES"
   ]
  },
  {
   "cell_type": "code",
   "execution_count": 7,
   "metadata": {},
   "outputs": [],
   "source": [
    "# Weight initialisation\n",
    "weight_initialisation = 'RI'    # randomly initialised"
   ]
  },
  {
   "cell_type": "code",
   "execution_count": 8,
   "metadata": {},
   "outputs": [],
   "source": [
    "# Class distinction\n",
    "class_dict = {0: 'SB'}"
   ]
  },
  {
   "cell_type": "code",
   "execution_count": 10,
   "metadata": {},
   "outputs": [],
   "source": [
    "# Model variables\n",
    "backbone = 'vgg16'\n",
    "image_size = 256    # call image size for both h and w\n",
    "classes = 1\n",
    "batch_size = 2\n",
    "epochs = 2\n",
    "\n",
    "    # RI: None, TL: imagenet\n",
    "encoder_weights = None \n",
    "    # RI: False, TL: True\n",
    "encoder_freeze = False \n",
    "\n",
    "    # Activation - CHOOSE 1\n",
    "activation = 'sigmoid'   # use for binary \n",
    "#activation = 'softmax'\n",
    "#activation = 'linear'\n",
    "\n",
    "    # Batch normalisation - CHOOSE 1\n",
    "#decoder_use_batchnorm = True    #BatchNorm layer between Conv2D and Activation\n",
    "decoder_use_batchnorm = False"
   ]
  },
  {
   "cell_type": "code",
   "execution_count": 11,
   "metadata": {},
   "outputs": [],
   "source": [
    "# Loss Functions - CHOOSE 1\n",
    "#loss = sm.losses.JaccardLoss()\n",
    "#loss = sm.losses.DiceLoss()\n",
    "loss = sm.losses.BinaryFocalLoss()\n",
    "#loss = sm.losses.CategoricalFocalLoss()\n",
    "#loss = sm.losses.BinaryCELoss()\n",
    "#loss = sm.losses.CategoricalCELoss()\n",
    "\n",
    "# Loss name - CHOOSE 1\n",
    "#loss_name = 'JaccardLoss'\n",
    "#loss_name = 'DiceLoss'\n",
    "loss_name = 'BinaryFocalLoss'\n",
    "#loss_name = 'CategoricalFocalLoss'\n",
    "#loss_name = 'BinaryCELoss'\n",
    "#loss_name = 'CategoricalCELoss'"
   ]
  },
  {
   "cell_type": "code",
   "execution_count": 40,
   "metadata": {},
   "outputs": [],
   "source": [
    "# Optimiser parameters \n",
    "learning_rate = 0.0001\n",
    "beta_1 = 0.9\n",
    "beta_2 = 0.999\n",
    "momentum = 0.0\n",
    "\n",
    "# Optimiser - CHOOSE 1\n",
    "opt = Adam(learning_rate=learning_rate, beta_1=beta_1, beta_2=beta_2, amsgrad=False)\n",
    "#opt = SGD(learning_rate=learning_rate, momentum=momentum, nesterov=False)\n",
    "#opt = Adagrad()                # recommended to leave defaults\n",
    "#opt = Adadelta()               # recommends to leave defaults"
   ]
  },
  {
   "cell_type": "code",
   "execution_count": 41,
   "metadata": {},
   "outputs": [],
   "source": [
    "# Performance\n",
    "    # can specify threhsold=0.5\n",
    "IOU = sm.metrics.IOUScore()\n",
    "FScore = sm.metrics.FScore()\n",
    "metrics=[IOU, FScore]"
   ]
  },
  {
   "cell_type": "code",
   "execution_count": 42,
   "metadata": {},
   "outputs": [],
   "source": [
    "# Augmentations Performed? - CHOOSE 1\n",
    "#da = 'dAug'\n",
    "da = 'no_dAug'"
   ]
  },
  {
   "cell_type": "code",
   "execution_count": 43,
   "metadata": {},
   "outputs": [],
   "source": [
    "## SECTION 3: DEFINE PATHS"
   ]
  },
  {
   "cell_type": "code",
   "execution_count": 44,
   "metadata": {},
   "outputs": [],
   "source": [
    "# Training\n",
    "ytrain_dir = 'Masks/1Train'\n",
    "xtrain_dir = 'Images/1Train'\n",
    "\n",
    "# Validation\n",
    "yval_dir = 'Masks/1Val'\n",
    "xval_dir = 'Images/1Val'\n",
    "\n",
    "# Test\n",
    "ytest_dir = 'Masks/1Test'\n",
    "xtest_dir = 'Images/1Test'\n",
    "\n",
    "# Save Path\n",
    "save_path = f'Unet.{backbone}.w{weight_initialisation}.b{batch_size}.e{epochs}.lr{learning_rate}.{da}'\n",
    "\n",
    "# Path where resulting weights will be saved\n",
    "weights_path = (f'Weights/{save_path}.h5')\n",
    "\n",
    "# Path where training log will be saved\n",
    "training_log = f'TrainingLog/{save_path}.out'\n",
    "\n",
    "# Define number of val/test images. If no. val images /= no. test images, need to create own generators with their own batch numbers\n",
    "batch_size_val_test = len(os.listdir(xval_dir))"
   ]
  },
  {
   "cell_type": "code",
   "execution_count": 45,
   "metadata": {
    "scrolled": true
   },
   "outputs": [
    {
     "name": "stdout",
     "output_type": "stream",
     "text": [
      "Train Images & Masks\n",
      "16\n",
      "16\n",
      "Val Images & Masks\n",
      "4\n",
      "4\n",
      "Test Images & Masks\n",
      "4\n",
      "4\n"
     ]
    }
   ],
   "source": [
    "# Check how many images are in the folders \n",
    "print('Train Images & Masks')\n",
    "print(len(os.listdir(xtrain_dir)))\n",
    "print(len(os.listdir(ytrain_dir)))\n",
    "\n",
    "print('Val Images & Masks')\n",
    "print(len(os.listdir(xval_dir)))\n",
    "print(len(os.listdir(yval_dir)))\n",
    "\n",
    "print('Test Images & Masks')\n",
    "print(len(os.listdir(xtest_dir)))\n",
    "print(len(os.listdir(ytest_dir)))"
   ]
  },
  {
   "cell_type": "code",
   "execution_count": 46,
   "metadata": {},
   "outputs": [],
   "source": [
    "## SECTION 4: AUGMENTATIONS\n",
    "    # comment out if not doing augmentations"
   ]
  },
  {
   "cell_type": "code",
   "execution_count": 47,
   "metadata": {},
   "outputs": [],
   "source": [
    "#aug = Compose([OneOf([ElasticTransform(p=1, alpha=200, sigma=200 * 0.05, alpha_affine=200 * 0.03),GridDistortion(p=1, border_mode=0, value=5)], p=0.8), CLAHE(p=0.8),HorizontalFlip(p=0.5), RandomBrightnessContrast(p=0.8), RandomGamma(p=0.8)])"
   ]
  },
  {
   "cell_type": "code",
   "execution_count": 48,
   "metadata": {},
   "outputs": [],
   "source": [
    "## SECTION 5: DATA GENERATOR FUNCTION - training + validation"
   ]
  },
  {
   "cell_type": "code",
   "execution_count": 49,
   "metadata": {},
   "outputs": [],
   "source": [
    "# img_folder and mask_folder will be replaced with xtrain_dir/xval_dir and ytrain_dir/yval_dir when data generated in Section 7\n",
    "def data_gen(img_folder, mask_folder, batch_size=batch_size, image_size=image_size, classes=classes):\n",
    "    c=0\n",
    "    n=os.listdir(img_folder)\n",
    "    random.shuffle(n)\n",
    "    \n",
    "    while (True):\n",
    "        img = np.zeros((batch_size, image_size, image_size, 1)).astype('float')\n",
    "        mask = np.zeros((batch_size, image_size, image_size, classes)).astype('float')\n",
    "        \n",
    "        for i in range(c, c+batch_size):\n",
    "            \n",
    "            train_img = cv2.imread(os.path.join(img_folder,n[i]), cv2.IMREAD_GRAYSCALE)         \n",
    "            train_mask = cv2.imread(os.path.join(mask_folder,n[i]), cv2.IMREAD_GRAYSCALE)\n",
    "            \n",
    "            # comment this out if not augmenting\n",
    "            #augmented = aug(image=train_img, mask=train_mask)\n",
    "            #train_img = augmented['image']\n",
    "            #train_mask = augmented['mask']\n",
    "            \n",
    "            train_img = cv2.resize(train_img, (image_size, image_size))/255.     #change if image size changes\n",
    "            train_img = train_img.reshape([image_size, image_size,1])\n",
    "            \n",
    "            img[i-c] = train_img #add to array img[0] img [1] etc\n",
    "            \n",
    "            train_mask = cv2.resize(train_mask, (image_size, image_size))\n",
    "            train_mask = train_mask.reshape([image_size, image_size, classes])\n",
    "            \n",
    "            mask[i-c] = train_mask\n",
    "            \n",
    "        c+=batch_size\n",
    "        if (c+batch_size>=len(os.listdir(img_folder))):\n",
    "            c=0\n",
    "            random.shuffle(n)\n",
    "        \n",
    "        yield img, mask"
   ]
  },
  {
   "cell_type": "code",
   "execution_count": 50,
   "metadata": {},
   "outputs": [],
   "source": [
    "## SECTION 6: DATA GENERATOR FUNCTION - testing"
   ]
  },
  {
   "cell_type": "code",
   "execution_count": 51,
   "metadata": {},
   "outputs": [],
   "source": [
    "# define batch_size as number of images in test folder (otherwise issuse with shuffling)\n",
    "def test_gen(img_folder, mask_folder, batch_size=batch_size_val_test, image_size=image_size, classes=classes):\n",
    "    c=0\n",
    "    n=os.listdir(img_folder)\n",
    "    n.sort() #always evaluate in the same order \n",
    "    #remove shuffling\n",
    "    \n",
    "    while (True):\n",
    "        img = np.zeros((batch_size, image_size, image_size, 1)).astype('float')\n",
    "        mask = np.zeros((batch_size, image_size, image_size, classes)).astype('float')\n",
    "        \n",
    "        for i in range(c, c+batch_size):\n",
    "            \n",
    "            train_img = cv2.imread(os.path.join(img_folder,n[i]), cv2.IMREAD_GRAYSCALE) \n",
    "            train_img = cv2.resize(train_img, (image_size, image_size))/255.     #change if image size changes\n",
    "            train_img = train_img.reshape([image_size, image_size,1])\n",
    "            \n",
    "            img[i-c] = train_img #add to array img[0] img [1] etc\n",
    "           \n",
    "            train_mask = cv2.imread(os.path.join(mask_folder,n[i]), cv2.IMREAD_GRAYSCALE) \n",
    "            train_mask = cv2.resize(train_mask, (image_size, image_size))\n",
    "            #train_mask = train_mask.ravel()\n",
    "            #train_mask = to_categorical(train_mask, num_classes=classes)\n",
    "            train_mask = train_mask.reshape([image_size, image_size, classes])\n",
    "            \n",
    "            mask[i-c] = train_mask\n",
    "            \n",
    "        c+=batch_size\n",
    "        if (c+batch_size>=len(os.listdir(img_folder))):\n",
    "            c=0\n",
    "        \n",
    "        yield img, mask"
   ]
  },
  {
   "cell_type": "code",
   "execution_count": 52,
   "metadata": {},
   "outputs": [],
   "source": [
    "## SECTION 7: GENERATE THE DATA"
   ]
  },
  {
   "cell_type": "code",
   "execution_count": 53,
   "metadata": {},
   "outputs": [],
   "source": [
    "# Generate training data (known)\n",
    "train_gen = data_gen(xtrain_dir, ytrain_dir, image_size=image_size, batch_size=batch_size)\n",
    "\n",
    "# Generate validation data (known)\n",
    "val_gen = data_gen(xval_dir, yval_dir, image_size=image_size, batch_size=batch_size)\n",
    "\n",
    "# Predicted generation for testing only -->\n",
    "    # Generate predicted validation data (predictions)\n",
    "    # update batch number so it matches house many images there are in the folder \n",
    "val_pred_generator = test_gen(xval_dir, yval_dir, image_size=image_size, batch_size=batch_size_val_test)\n",
    "\n",
    "    # Generate test data (predicted)\n",
    "    # update batch number so it matches house many images there are in the folder \n",
    "test_generator = test_gen(xtest_dir, ytest_dir, image_size=image_size, batch_size=batch_size_val_test)"
   ]
  },
  {
   "cell_type": "code",
   "execution_count": 54,
   "metadata": {},
   "outputs": [],
   "source": [
    "## SECTION 8: DEFINE MODEL CALLBACKS\n",
    "    # turn on/off as needed\n",
    "    # can add verbose=1 if want to visualise progress bar"
   ]
  },
  {
   "cell_type": "code",
   "execution_count": 55,
   "metadata": {},
   "outputs": [],
   "source": [
    "# Checkpoint - save minimum val_loss found\n",
    "checkpoint = ModelCheckpoint(weights_path, monitor='val_loss', verbose=1, save_best_only=True, save_weights_only=True, mode='min')\n",
    "\n",
    "# CSVLogger - save epoch results with \"save_path\" naming attached\n",
    "csv_logger = CSVLogger(training_log, append=True, separator=';')\n",
    "\n",
    "# EarlyStopping - stop training if val_loss doesn't improve after # epochs (patience)\n",
    "earlystopping = EarlyStopping(monitor='val_loss', mode=\"min\", patience=10, verbose=1)\n",
    "                      \n",
    "# Reduce Learning Rate - reduce learning rate if val_loss stops improving\n",
    "#reduce_lr = ReduceLROnPlateau(monitor='val_loss', mode='min', factor=0.2, patience=5, min_lr=0.001, verbose=1)\n",
    "\n",
    "\n",
    "# Collate callbacks \n",
    "callbacks_list = [checkpoint, csv_logger]"
   ]
  },
  {
   "cell_type": "code",
   "execution_count": 56,
   "metadata": {},
   "outputs": [],
   "source": [
    "## SECTION 9: CREATE MODEL"
   ]
  },
  {
   "cell_type": "code",
   "execution_count": 57,
   "metadata": {},
   "outputs": [],
   "source": [
    "model = Unet(backbone_name=backbone, encoder_weights=encoder_weights, classes=classes, activation=activation, \n",
    "        encoder_freeze=encoder_freeze, decoder_use_batchnorm = decoder_use_batchnorm, input_shape=(image_size, image_size, 1))"
   ]
  },
  {
   "cell_type": "code",
   "execution_count": 58,
   "metadata": {},
   "outputs": [],
   "source": [
    "## SECTION 10: COMPILE MODEL"
   ]
  },
  {
   "cell_type": "code",
   "execution_count": 59,
   "metadata": {},
   "outputs": [],
   "source": [
    "model.compile(optimizer=opt, loss=loss, metrics=metrics) "
   ]
  },
  {
   "cell_type": "code",
   "execution_count": 60,
   "metadata": {},
   "outputs": [
    {
     "name": "stdout",
     "output_type": "stream",
     "text": [
      "Model: \"model_2\"\n",
      "__________________________________________________________________________________________________\n",
      "Layer (type)                    Output Shape         Param #     Connected to                     \n",
      "==================================================================================================\n",
      "input_2 (InputLayer)            (None, 256, 256, 1)  0                                            \n",
      "__________________________________________________________________________________________________\n",
      "block1_conv1 (Conv2D)           (None, 256, 256, 64) 640         input_2[0][0]                    \n",
      "__________________________________________________________________________________________________\n",
      "block1_conv2 (Conv2D)           (None, 256, 256, 64) 36928       block1_conv1[0][0]               \n",
      "__________________________________________________________________________________________________\n",
      "block1_pool (MaxPooling2D)      (None, 128, 128, 64) 0           block1_conv2[0][0]               \n",
      "__________________________________________________________________________________________________\n",
      "block2_conv1 (Conv2D)           (None, 128, 128, 128 73856       block1_pool[0][0]                \n",
      "__________________________________________________________________________________________________\n",
      "block2_conv2 (Conv2D)           (None, 128, 128, 128 147584      block2_conv1[0][0]               \n",
      "__________________________________________________________________________________________________\n",
      "block2_pool (MaxPooling2D)      (None, 64, 64, 128)  0           block2_conv2[0][0]               \n",
      "__________________________________________________________________________________________________\n",
      "block3_conv1 (Conv2D)           (None, 64, 64, 256)  295168      block2_pool[0][0]                \n",
      "__________________________________________________________________________________________________\n",
      "block3_conv2 (Conv2D)           (None, 64, 64, 256)  590080      block3_conv1[0][0]               \n",
      "__________________________________________________________________________________________________\n",
      "block3_conv3 (Conv2D)           (None, 64, 64, 256)  590080      block3_conv2[0][0]               \n",
      "__________________________________________________________________________________________________\n",
      "block3_pool (MaxPooling2D)      (None, 32, 32, 256)  0           block3_conv3[0][0]               \n",
      "__________________________________________________________________________________________________\n",
      "block4_conv1 (Conv2D)           (None, 32, 32, 512)  1180160     block3_pool[0][0]                \n",
      "__________________________________________________________________________________________________\n",
      "block4_conv2 (Conv2D)           (None, 32, 32, 512)  2359808     block4_conv1[0][0]               \n",
      "__________________________________________________________________________________________________\n",
      "block4_conv3 (Conv2D)           (None, 32, 32, 512)  2359808     block4_conv2[0][0]               \n",
      "__________________________________________________________________________________________________\n",
      "block4_pool (MaxPooling2D)      (None, 16, 16, 512)  0           block4_conv3[0][0]               \n",
      "__________________________________________________________________________________________________\n",
      "block5_conv1 (Conv2D)           (None, 16, 16, 512)  2359808     block4_pool[0][0]                \n",
      "__________________________________________________________________________________________________\n",
      "block5_conv2 (Conv2D)           (None, 16, 16, 512)  2359808     block5_conv1[0][0]               \n",
      "__________________________________________________________________________________________________\n",
      "block5_conv3 (Conv2D)           (None, 16, 16, 512)  2359808     block5_conv2[0][0]               \n",
      "__________________________________________________________________________________________________\n",
      "block5_pool (MaxPooling2D)      (None, 8, 8, 512)    0           block5_conv3[0][0]               \n",
      "__________________________________________________________________________________________________\n",
      "center_block1_conv (Conv2D)     (None, 8, 8, 512)    2359808     block5_pool[0][0]                \n",
      "__________________________________________________________________________________________________\n",
      "center_block1_relu (Activation) (None, 8, 8, 512)    0           center_block1_conv[0][0]         \n",
      "__________________________________________________________________________________________________\n",
      "center_block2_conv (Conv2D)     (None, 8, 8, 512)    2359808     center_block1_relu[0][0]         \n",
      "__________________________________________________________________________________________________\n",
      "center_block2_relu (Activation) (None, 8, 8, 512)    0           center_block2_conv[0][0]         \n",
      "__________________________________________________________________________________________________\n",
      "decoder_stage0_upsampling (UpSa (None, 16, 16, 512)  0           center_block2_relu[0][0]         \n",
      "__________________________________________________________________________________________________\n",
      "decoder_stage0_concat (Concaten (None, 16, 16, 1024) 0           decoder_stage0_upsampling[0][0]  \n",
      "                                                                 block5_conv3[0][0]               \n",
      "__________________________________________________________________________________________________\n",
      "decoder_stage0a_conv (Conv2D)   (None, 16, 16, 256)  2359552     decoder_stage0_concat[0][0]      \n",
      "__________________________________________________________________________________________________\n",
      "decoder_stage0a_relu (Activatio (None, 16, 16, 256)  0           decoder_stage0a_conv[0][0]       \n",
      "__________________________________________________________________________________________________\n",
      "decoder_stage0b_conv (Conv2D)   (None, 16, 16, 256)  590080      decoder_stage0a_relu[0][0]       \n",
      "__________________________________________________________________________________________________\n",
      "decoder_stage0b_relu (Activatio (None, 16, 16, 256)  0           decoder_stage0b_conv[0][0]       \n",
      "__________________________________________________________________________________________________\n",
      "decoder_stage1_upsampling (UpSa (None, 32, 32, 256)  0           decoder_stage0b_relu[0][0]       \n",
      "__________________________________________________________________________________________________\n",
      "decoder_stage1_concat (Concaten (None, 32, 32, 768)  0           decoder_stage1_upsampling[0][0]  \n",
      "                                                                 block4_conv3[0][0]               \n",
      "__________________________________________________________________________________________________\n",
      "decoder_stage1a_conv (Conv2D)   (None, 32, 32, 128)  884864      decoder_stage1_concat[0][0]      \n",
      "__________________________________________________________________________________________________\n",
      "decoder_stage1a_relu (Activatio (None, 32, 32, 128)  0           decoder_stage1a_conv[0][0]       \n",
      "__________________________________________________________________________________________________\n",
      "decoder_stage1b_conv (Conv2D)   (None, 32, 32, 128)  147584      decoder_stage1a_relu[0][0]       \n",
      "__________________________________________________________________________________________________\n",
      "decoder_stage1b_relu (Activatio (None, 32, 32, 128)  0           decoder_stage1b_conv[0][0]       \n",
      "__________________________________________________________________________________________________\n",
      "decoder_stage2_upsampling (UpSa (None, 64, 64, 128)  0           decoder_stage1b_relu[0][0]       \n",
      "__________________________________________________________________________________________________\n",
      "decoder_stage2_concat (Concaten (None, 64, 64, 384)  0           decoder_stage2_upsampling[0][0]  \n",
      "                                                                 block3_conv3[0][0]               \n",
      "__________________________________________________________________________________________________\n",
      "decoder_stage2a_conv (Conv2D)   (None, 64, 64, 64)   221248      decoder_stage2_concat[0][0]      \n",
      "__________________________________________________________________________________________________\n",
      "decoder_stage2a_relu (Activatio (None, 64, 64, 64)   0           decoder_stage2a_conv[0][0]       \n",
      "__________________________________________________________________________________________________\n",
      "decoder_stage2b_conv (Conv2D)   (None, 64, 64, 64)   36928       decoder_stage2a_relu[0][0]       \n",
      "__________________________________________________________________________________________________\n",
      "decoder_stage2b_relu (Activatio (None, 64, 64, 64)   0           decoder_stage2b_conv[0][0]       \n",
      "__________________________________________________________________________________________________\n",
      "decoder_stage3_upsampling (UpSa (None, 128, 128, 64) 0           decoder_stage2b_relu[0][0]       \n",
      "__________________________________________________________________________________________________\n",
      "decoder_stage3_concat (Concaten (None, 128, 128, 192 0           decoder_stage3_upsampling[0][0]  \n",
      "                                                                 block2_conv2[0][0]               \n",
      "__________________________________________________________________________________________________\n",
      "decoder_stage3a_conv (Conv2D)   (None, 128, 128, 32) 55328       decoder_stage3_concat[0][0]      \n",
      "__________________________________________________________________________________________________\n",
      "decoder_stage3a_relu (Activatio (None, 128, 128, 32) 0           decoder_stage3a_conv[0][0]       \n",
      "__________________________________________________________________________________________________\n",
      "decoder_stage3b_conv (Conv2D)   (None, 128, 128, 32) 9248        decoder_stage3a_relu[0][0]       \n",
      "__________________________________________________________________________________________________\n",
      "decoder_stage3b_relu (Activatio (None, 128, 128, 32) 0           decoder_stage3b_conv[0][0]       \n",
      "__________________________________________________________________________________________________\n",
      "decoder_stage4_upsampling (UpSa (None, 256, 256, 32) 0           decoder_stage3b_relu[0][0]       \n",
      "__________________________________________________________________________________________________\n",
      "decoder_stage4a_conv (Conv2D)   (None, 256, 256, 16) 4624        decoder_stage4_upsampling[0][0]  \n",
      "__________________________________________________________________________________________________\n",
      "decoder_stage4a_relu (Activatio (None, 256, 256, 16) 0           decoder_stage4a_conv[0][0]       \n",
      "__________________________________________________________________________________________________\n",
      "decoder_stage4b_conv (Conv2D)   (None, 256, 256, 16) 2320        decoder_stage4a_relu[0][0]       \n",
      "__________________________________________________________________________________________________\n",
      "decoder_stage4b_relu (Activatio (None, 256, 256, 16) 0           decoder_stage4b_conv[0][0]       \n",
      "__________________________________________________________________________________________________\n",
      "final_conv (Conv2D)             (None, 256, 256, 1)  145         decoder_stage4b_relu[0][0]       \n",
      "__________________________________________________________________________________________________\n",
      "sigmoid (Activation)            (None, 256, 256, 1)  0           final_conv[0][0]                 \n",
      "==================================================================================================\n",
      "Total params: 23,745,073\n",
      "Trainable params: 23,745,073\n",
      "Non-trainable params: 0\n",
      "__________________________________________________________________________________________________\n"
     ]
    }
   ],
   "source": [
    "# Model summary\n",
    "model.summary()"
   ]
  },
  {
   "cell_type": "code",
   "execution_count": 61,
   "metadata": {},
   "outputs": [],
   "source": [
    "## SECTION 11: BEGIN TRAINING"
   ]
  },
  {
   "cell_type": "code",
   "execution_count": 62,
   "metadata": {},
   "outputs": [],
   "source": [
    "# Define number of training and validation images\n",
    "no_training_images = len(os.listdir(xtrain_dir))\n",
    "no_val_images = len(os.listdir(xval_dir))\n",
    "no_test_images = len(os.listdir(xtest_dir))"
   ]
  },
  {
   "cell_type": "code",
   "execution_count": 63,
   "metadata": {},
   "outputs": [
    {
     "name": "stdout",
     "output_type": "stream",
     "text": [
      "Training\n",
      "16\n",
      "2\n",
      "8\n",
      "Val\n",
      "4\n",
      "2\n",
      "2\n",
      "Test\n",
      "4\n",
      "2\n",
      "2\n"
     ]
    }
   ],
   "source": [
    "# Check that the steps will work - images/batch must be >= epochs\n",
    "\n",
    "    # Training\n",
    "print('Training')\n",
    "print(no_training_images)\n",
    "print(batch_size)\n",
    "print(no_training_images//batch_size)\n",
    "\n",
    "    # Validation\n",
    "print('Val')\n",
    "print(no_val_images)\n",
    "print(batch_size)\n",
    "print(no_val_images//batch_size)\n",
    "\n",
    "    # Testing\n",
    "print('Test')\n",
    "print(no_test_images)\n",
    "print(batch_size)\n",
    "print(no_test_images//batch_size)"
   ]
  },
  {
   "cell_type": "code",
   "execution_count": 64,
   "metadata": {
    "scrolled": true
   },
   "outputs": [
    {
     "name": "stdout",
     "output_type": "stream",
     "text": [
      "WARNING:tensorflow:From /home/s188/OSHAW/project_env/lib/python3.6/site-packages/tensorflow/python/ops/math_grad.py:1205: add_dispatch_support.<locals>.wrapper (from tensorflow.python.ops.array_ops) is deprecated and will be removed in a future version.\n",
      "Instructions for updating:\n",
      "Use tf.where in 2.0, which has the same broadcast rule as np.where\n",
      "WARNING:tensorflow:From /home/s188/OSHAW/project_env/lib/python3.6/site-packages/keras/backend/tensorflow_backend.py:422: The name tf.global_variables is deprecated. Please use tf.compat.v1.global_variables instead.\n",
      "\n",
      "Epoch 1/2\n",
      "8/8 [==============================] - 10s 1s/step - loss: -56.7427 - iou_score: 4.1569 - f1-score: 1.3156 - val_loss: -181.1445 - val_iou_score: 6.6610 - val_f1-score: 1.7389\n",
      "\n",
      "Epoch 00001: val_loss improved from inf to -181.14452, saving model to Weights/Unet.vgg16.wRI.b2.e2.lr0.0001.no_dAug.h5\n",
      "Epoch 2/2\n",
      "8/8 [==============================] - 9s 1s/step - loss: -487.1099 - iou_score: 16.2877 - f1-score: 1.8736 - val_loss: -179.9090 - val_iou_score: 6.3954 - val_f1-score: 1.7293\n",
      "\n",
      "Epoch 00002: val_loss did not improve from -181.14452\n"
     ]
    }
   ],
   "source": [
    "# Train the model\n",
    "results = model.fit_generator(train_gen, epochs=epochs, \n",
    "    # augmentation doesn't increase # images, so if augmenting, update # for steps_per_epoch to match correct # of images being trained on)\n",
    "           steps_per_epoch = (no_training_images*1//batch_size),    \n",
    "           validation_data=val_gen,\n",
    "           validation_steps=(no_val_images//batch_size), \n",
    "           verbose=1, callbacks=callbacks_list)"
   ]
  },
  {
   "cell_type": "code",
   "execution_count": 377,
   "metadata": {},
   "outputs": [],
   "source": [
    "## SECTION 12: PLOT TRAINING RESULTS"
   ]
  },
  {
   "cell_type": "code",
   "execution_count": 378,
   "metadata": {},
   "outputs": [],
   "source": [
    "# Load model\n",
    "#model = load_model(f'Models/{save_path}.hdf5')"
   ]
  },
  {
   "cell_type": "code",
   "execution_count": 379,
   "metadata": {},
   "outputs": [],
   "source": [
    "# Save model weights\n",
    "#model.save_weights(f'Weights/{save_path}.h5')"
   ]
  },
  {
   "cell_type": "code",
   "execution_count": 405,
   "metadata": {},
   "outputs": [],
   "source": [
    "# Read the TrainingLog data for plotting\n",
    "history = pd.read_csv(training_log, sep=';')"
   ]
  },
  {
   "cell_type": "code",
   "execution_count": 406,
   "metadata": {},
   "outputs": [],
   "source": [
    "# Create function to plot training and validation IOU score and loss values\n",
    "    # to save plot data: save = True, name = save_path\n",
    "def plot_history(history, save=True, name=save_path):\n",
    "    fig, (ax1, ax2) = plt.subplots(ncols=2)\n",
    "    ax1.plot(history['iou_score'])\n",
    "    ax1.plot(history['val_iou_score'])\n",
    "    ax1.title.set_text('Model Accuracy')\n",
    "    ax1.set_ylabel('Jaccard Score')\n",
    "    ax1.set_xlabel('Epoch')\n",
    "    ax1.legend(['Train', 'Validation'], loc='lower right')\n",
    "    \n",
    "    # Plot training & validation loss values\n",
    "    ax2.plot(history['loss'])\n",
    "    ax2.plot(history['val_loss'])\n",
    "    ax2.title.set_text('Model loss')\n",
    "    ax2.set_ylabel('Jaccard Loss')\n",
    "    ax2.set_xlabel('Epoch')\n",
    "    ax2.legend(['Train', 'Validation'], loc='upper right')\n",
    "    fig.tight_layout()\n",
    "    fig.show()\n",
    "    if save==False:\n",
    "        return\n",
    "    else:\n",
    "        fig.savefig(f'Figures/{name}.png')      \n",
    "    return"
   ]
  },
  {
   "cell_type": "code",
   "execution_count": 407,
   "metadata": {},
   "outputs": [
    {
     "data": {
      "image/png": "[encoded data removed]",
      "text/plain": [
       "<Figure size 432x288 with 2 Axes>"
      ]
     },
     "metadata": {
      "needs_background": "light"
     },
     "output_type": "display_data"
    }
   ],
   "source": [
    "# Show the plots\n",
    "    # to save plot figures: save = True, name = save_path\n",
    "plot_history(history, save = True, name = save_path)"
   ]
  },
  {
   "cell_type": "code",
   "execution_count": 408,
   "metadata": {},
   "outputs": [],
   "source": [
    "## SECTION 13: MODEL EVALUATION\n",
    "    # only call when testing"
   ]
  },
  {
   "cell_type": "code",
   "execution_count": 409,
   "metadata": {},
   "outputs": [],
   "source": [
    "# Define the function to get the model scores\n",
    "def get_class_jaccard(image_folder, mask_folder, generator):\n",
    "    image_names = os.listdir(image_folder)\n",
    "    image_names.sort()\n",
    "    \n",
    "    predictions = model.predict_generator(generator, steps=1)\n",
    "    \n",
    "    ytrue = np.zeros((batch_size_val_test, image_size, image_size, classes)).astype('float')\n",
    "    \n",
    "    for i in range(batch_size_val_test):\n",
    "        target = cv2.imread(os.path.join(mask_folder, image_names[i]), cv2.IMREAD_GRAYSCALE)\n",
    "        target = cv2.resize(target, (image_size, image_size))\n",
    "        target = target.reshape([image_size, image_size, classes])\n",
    "        \n",
    "        ytrue[i] = target\n",
    "        \n",
    "    ypred = np.argmax(predictions, axis=-1)\n",
    "    ytrue = np.argmax(ytrue, axis=-1)\n",
    "    \n",
    "    scores = jaccard_score(ytrue.ravel(), ypred.ravel(), average=None)\n",
    "    \n",
    "    return print(f'SB: {scores[0]}')"
   ]
  },
  {
   "cell_type": "code",
   "execution_count": 410,
   "metadata": {},
   "outputs": [
    {
     "name": "stdout",
     "output_type": "stream",
     "text": [
      "SB: 1.0\n"
     ]
    }
   ],
   "source": [
    "# Show validation prediction scores\n",
    "get_class_jaccard(xval_dir, yval_dir, val_pred_generator)"
   ]
  },
  {
   "cell_type": "code",
   "execution_count": 411,
   "metadata": {},
   "outputs": [
    {
     "name": "stdout",
     "output_type": "stream",
     "text": [
      "SB: 1.0\n"
     ]
    }
   ],
   "source": [
    "# Show test scores\n",
    "get_class_jaccard(xtest_dir, ytest_dir, test_generator)"
   ]
  },
  {
   "cell_type": "code",
   "execution_count": 443,
   "metadata": {},
   "outputs": [],
   "source": [
    "## SECTION 14: VISUALISE VALIDATION PREDICTIONS"
   ]
  },
  {
   "cell_type": "code",
   "execution_count": 444,
   "metadata": {},
   "outputs": [],
   "source": [
    "# Get val image names and match with predictions\n",
    "image_names = os.listdir(xval_dir)\n",
    "image_names.sort()\n",
    "predictions = model.predict_generator(val_pred_generator, steps=1)\n",
    "ypred = np.argmax(predictions, axis=-1)"
   ]
  },
  {
   "cell_type": "code",
   "execution_count": 445,
   "metadata": {},
   "outputs": [],
   "source": [
    "# Create function to image validation predictions\n",
    "def plot_pred(index, predictions = ypred, save=False):\n",
    "    img = cv2.imread(os.path.join(xval_dir, image_names[index]), cv2.IMREAD_GRAYSCALE)\n",
    "    img = cv2.resize(img, (image_size, image_size))\n",
    "    \n",
    "    target = cv2.imread(os.path.join(yval_dir, image_names[index]), cv2.IMREAD_GRAYSCALE)\n",
    "    target = cv2.resize(target, (image_size, image_size))\n",
    "    \n",
    "    scores = jaccard_score(target.ravel(), ypred[index].ravel(), average=None)\n",
    "    \n",
    "    fig = plt.figure(frameon=False)\n",
    "    im1 = plt.imshow(img, cmap='gray')\n",
    "    im2 = plt.imshow(ypred[index], cmap='plasma', alpha=0.4)\n",
    "    plt.axis('off')\n",
    "    plt.annotate(f'IoU SB: {round(scores[0]*100,2)}', (image_size*0.1, image_size*0.95), color='white')\n",
    "    \n",
    "    if save == True:\n",
    "        plt.savefig(f'Figures/{save_path}_{image_names[index]}.png')\n",
    "        \n",
    "    plt.show()"
   ]
  },
  {
   "cell_type": "code",
   "execution_count": 446,
   "metadata": {},
   "outputs": [
    {
     "data": {
      "text/plain": [
       "(4, 256, 256, 1)"
      ]
     },
     "execution_count": 446,
     "metadata": {},
     "output_type": "execute_result"
    }
   ],
   "source": [
    "# Get the val predictions shape (number of images x h x w x channels)\n",
    "predictions.shape"
   ]
  },
  {
   "cell_type": "code",
   "execution_count": 447,
   "metadata": {},
   "outputs": [
    {
     "data": {
      "image/png": "[encoded data removed]",
      "text/plain": [
       "<Figure size 432x288 with 1 Axes>"
      ]
     },
     "metadata": {
      "needs_background": "light"
     },
     "output_type": "display_data"
    }
   ],
   "source": [
    "# Show the prediction\n",
    "    # first integer is image number, starting at 0\n",
    "plot_pred(2, ypred, save=True)"
   ]
  },
  {
   "cell_type": "code",
   "execution_count": 448,
   "metadata": {},
   "outputs": [],
   "source": [
    "## SECTION 15: VISUALISE TEST PREDICTIONS"
   ]
  },
  {
   "cell_type": "code",
   "execution_count": 449,
   "metadata": {},
   "outputs": [],
   "source": [
    "# Get test image names and match with predictions\n",
    "image_names = os.listdir(xtest_dir)\n",
    "image_names.sort()\n",
    "predictions = model.predict_generator(test_generator, steps=1)\n",
    "ypred = np.argmax(predictions, axis=-1)"
   ]
  },
  {
   "cell_type": "code",
   "execution_count": 450,
   "metadata": {},
   "outputs": [],
   "source": [
    "# Create function to image test predictions\n",
    "def plot_testpred(index, predictions = ypred, save=False):\n",
    "    img = cv2.imread(os.path.join(xtest_dir, image_names[index]), cv2.IMREAD_GRAYSCALE)\n",
    "    img = cv2.resize(img, (image_size, image_size))\n",
    "    \n",
    "    target = cv2.imread(os.path.join(ytest_dir, image_names[index]), cv2.IMREAD_GRAYSCALE)\n",
    "    target = cv2.resize(target, (image_size, image_size))\n",
    "    \n",
    "    scores = jaccard_score(target.ravel(), ypred[index].ravel(), average=None)\n",
    "    \n",
    "    fig = plt.figure(frameon=False)\n",
    "    im1 = plt.imshow(img, cmap='gray')\n",
    "    im2 = plt.imshow(ypred[index], cmap='plasma', alpha=0.4)\n",
    "    plt.axis('off')\n",
    "    plt.annotate(f'IoU SB: {round(scores[0]*100,2)}', (image_size*0.1, image_size*0.95), color='white')\n",
    "    \n",
    "    if save == True:\n",
    "        plt.savefig(f'Figures/TestFigures/{save_path}_{image_names[index]}.png')\n",
    "        \n",
    "    plt.show()"
   ]
  },
  {
   "cell_type": "code",
   "execution_count": 451,
   "metadata": {},
   "outputs": [
    {
     "data": {
      "text/plain": [
       "(4, 256, 256, 1)"
      ]
     },
     "execution_count": 451,
     "metadata": {},
     "output_type": "execute_result"
    }
   ],
   "source": [
    "# Get the test predictions shape (number of images x h x w x channels)\n",
    "predictions.shape"
   ]
  },
  {
   "cell_type": "code",
   "execution_count": 452,
   "metadata": {},
   "outputs": [
    {
     "data": {
      "image/png": "[encoded data removed]",
      "text/plain": [
       "<Figure size 432x288 with 1 Axes>"
      ]
     },
     "metadata": {
      "needs_background": "light"
     },
     "output_type": "display_data"
    }
   ],
   "source": [
    "# Show the test predictions\n",
    "    # first integer is image number, starting at 0 \n",
    "plot_testpred(0, ypred, save=False)"
   ]
  },
  {
   "cell_type": "code",
   "execution_count": null,
   "metadata": {},
   "outputs": [],
   "source": []
  }
 ],
 "metadata": {
  "kernelspec": {
   "display_name": "Python 3",
   "language": "python",
   "name": "python3"
  },
  "language_info": {
   "codemirror_mode": {
    "name": "ipython",
    "version": 3
   },
   "file_extension": ".py",
   "mimetype": "text/x-python",
   "name": "python",
   "nbconvert_exporter": "python",
   "pygments_lexer": "ipython3",
   "version": "3.6.9"
  }
 },
 "nbformat": 4,
 "nbformat_minor": 4
}
